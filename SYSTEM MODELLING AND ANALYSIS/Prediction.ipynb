{
 "cells": [
  {
   "cell_type": "code",
   "execution_count": 2,
   "id": "b34b74fb-bd88-4480-8061-640e9456ebb8",
   "metadata": {},
   "outputs": [],
   "source": [
    "import numpy as np \n",
    "import pandas as pd \n",
    "import matplotlib.pyplot as plt\n",
    "import fasttext\n",
    "import spacy\n",
    "from string import punctuation\n",
    "from sklearn import metrics\n",
    "import pickle as pkl\n",
    "from sklearn.model_selection import ParameterGrid\n",
    "from sklearn import svm\n",
    "from sklearn.multioutput import MultiOutputRegressor\n",
    "import itertools\n",
    "from sklearn.neural_network import MLPRegressor\n",
    "from sklearn.tree import DecisionTreeRegressor\n",
    "\n",
    "# python -m spacy download en_core_web_trf"
   ]
  },
  {
   "cell_type": "code",
   "execution_count": 3,
   "id": "18054843-e98c-420b-aba3-e121d2d6d59b",
   "metadata": {},
   "outputs": [],
   "source": [
    "def process_text(text, nlp):\n",
    "    stopwords = nlp.Defaults.stop_words\n",
    "    doc = nlp(text.lower())\n",
    "    return \" \".join([token.lemma_ for token in doc if (token not in stopwords and token.text not in punctuation)])\n",
    "\n",
    "\n",
    "def text_preprocessing(x):\n",
    "    nlp = spacy.load('en_core_web_trf', disable=[\"ner\"])\n",
    "    return x.apply(lambda text: process_text(text, nlp))\n",
    "\n",
    "\n",
    "def convert_emotions(df):\n",
    "    y = []\n",
    "    for i in range(10):\n",
    "        y.append((df.iloc[:,i] + df.iloc[:,i +10]) / 2)\n",
    "    matrix = []\n",
    "    for j in range(len(y[0])):\n",
    "        row = []\n",
    "        for i in range(10):\n",
    "            row.append(y[i][j])\n",
    "        matrix.append(row)\n",
    "    return pd.DataFrame(matrix, columns=['joy', 'trust', 'anticipation', 'surprise', 'fear', 'sadness', 'disgust', 'anger', 'valence', 'arousal'])\n",
    "\n",
    "\n",
    "def load_data(files=None):\n",
    "    if files is None:\n",
    "        files = ['train.xlsx', 'dev.xlsx', 'test.xlsx']\n",
    "    data = []\n",
    "    for file in files:\n",
    "        df = pd.read_excel(file)\n",
    "        df = df.dropna()\n",
    "        x = text_preprocessing(df['text'])\n",
    "        y = convert_emotions(df.iloc[:, 2:])\n",
    "        data.append(x)\n",
    "        data.append(y)\n",
    "    return data\n",
    "\n",
    "\n",
    "def text_to_vector(model, x):\n",
    "    return np.stack(x.apply(lambda txt: model.get_sentence_vector(txt)))\n",
    "\n",
    "def load_orginal_y(files=None):\n",
    "    if files is None:\n",
    "        files = ['train.xlsx', 'dev.xlsx', 'test.xlsx']\n",
    "    data = []\n",
    "    for file in files:\n",
    "        df = pd.read_excel(file)\n",
    "        df = df.dropna()\n",
    "        y = df.iloc[:, 2:]\n",
    "        data.append(y)\n",
    "    return data"
   ]
  },
  {
   "cell_type": "code",
   "execution_count": 4,
   "id": "488fcafa-a3ac-492a-b029-1691ebafd5d5",
   "metadata": {},
   "outputs": [],
   "source": [
    "def make_labels_for_value(row, tag, value, columns):\n",
    "    if value > 0:\n",
    "        return ['__label__'+label for label in columns[list(row[1:] >= value)] + str(tag)]\n",
    "    else:\n",
    "        return ['__label__'+label for label in columns[list(row[1:] <= value)] + str(tag)]\n",
    "\n",
    "def make_list(columns, row):\n",
    "    l = list()\n",
    "    for tag, val in zip(['_neg',''],[-1, 1]):\n",
    "        l.extend(make_labels_for_value(row, tag, val, columns))\n",
    "    return l"
   ]
  },
  {
   "cell_type": "code",
   "execution_count": null,
   "id": "7927540c-f911-4371-a5e9-06c868db66b9",
   "metadata": {},
   "outputs": [],
   "source": [
    "x_train, y_train, x_dev, y_dev, x_test, y_test = load_data()"
   ]
  },
  {
   "cell_type": "code",
   "execution_count": 5,
   "id": "55f0f467-938b-4e71-afc3-5b896d7ce1de",
   "metadata": {},
   "outputs": [],
   "source": [
    "df_train = pd.concat([x_train, y_train], axis=1)\n",
    "df_dev = pd.concat([x_dev, y_dev], axis=1)\n",
    "df_test = pd.concat([x_test, y_test], axis=1)"
   ]
  },
  {
   "cell_type": "code",
   "execution_count": 6,
   "id": "4cd62087-1111-41a0-a647-82d1e5930a97",
   "metadata": {},
   "outputs": [],
   "source": [
    "with open('text.train', 'w+', encoding='utf-8') as f:\n",
    "    df_train.apply(lambda row: f.write(' '.join(make_list(df_train.columns[1:], row)) + ' ' + row['text'] + '\\n'), axis=1)"
   ]
  },
  {
   "cell_type": "code",
   "execution_count": 7,
   "id": "79618cca-9b7f-496c-b462-e69e7837fdfd",
   "metadata": {},
   "outputs": [],
   "source": [
    "with open('text.dev', 'w+', encoding='utf-8') as f:\n",
    "    df_dev.apply(lambda row: f.write(' '.join(make_list(df_dev.columns[1:], row)) + ' ' + row['text'] + '\\n'), axis=1)"
   ]
  },
  {
   "cell_type": "code",
   "execution_count": 45,
   "id": "088f1a4b-5382-4b9f-8319-bf04191f5178",
   "metadata": {},
   "outputs": [],
   "source": [
    "#model = fasttext.train_supervised(input=\"text.train\", pretrainedVectors='wiki-news-300d-1M.vec', autotuneValidationFile='text.dev', dim=300, wordNgrams=3)\n",
    "#model.save_model('best_model.bin')"
   ]
  },
  {
   "cell_type": "code",
   "execution_count": null,
   "id": "746497ab-52cb-45da-ac8f-deb6a848ba5c",
   "metadata": {},
   "outputs": [],
   "source": [
    "model = fasttext.load_model('best_model.bin')"
   ]
  },
  {
   "cell_type": "code",
   "execution_count": 53,
   "id": "992fb4aa-d2c9-4053-b705-b0afe33bc04c",
   "metadata": {},
   "outputs": [],
   "source": [
    "x_train_vec = text_to_vector(model, x_train)\n",
    "x_dev_vec = text_to_vector(model, x_dev)\n",
    "x_test_vec = text_to_vector(model, x_test)"
   ]
  },
  {
   "cell_type": "code",
   "execution_count": 54,
   "id": "17d564e6-c446-419b-b15d-47fdef42f928",
   "metadata": {},
   "outputs": [],
   "source": [
    "data = x_test_vec, y_train, x_dev_vec, y_dev, x_train_vec, y_test\n",
    "\n",
    "with open('processed_data.pickle', 'wb') as f:\n",
    "    pkl.dump(data, f)"
   ]
  },
  {
   "cell_type": "code",
   "execution_count": 6,
   "id": "343a3959-1c53-43bf-bab1-75d26c495f15",
   "metadata": {},
   "outputs": [
    {
     "name": "stdout",
     "output_type": "stream",
     "text": [
      "Best validation score: 0.1725028499681128  Best params: {'C': 1, 'gamma': 100, 'kernel': 'rbf'}\n"
     ]
    }
   ],
   "source": [
    "param_grid = [\n",
    "              {'C': [0.1,1,10,100],\n",
    "              'gamma': [0.1,1,10,100,300],\n",
    "              'kernel': ['rbf']}, \n",
    "              {'C': [0.1,1,10,100],\n",
    "              'kernel': ['linear']},\n",
    "              {'C': [0.1,1,10,100],\n",
    "              'kernel': ['poly'],\n",
    "              'degree':[2,3,5]}\n",
    "              ]\n",
    "\n",
    "best_score = 0\n",
    "best_params = None\n",
    "\n",
    "for sets_of_params in param_grid:\n",
    "    keys, values = zip(*sets_of_params.items())\n",
    "    permutations_dicts = [dict(zip(keys, v)) for v in itertools.product(*values)]\n",
    "    for permuatation in permutations_dicts:\n",
    "        ml = svm.SVR(**permuatation)\n",
    "        moc = MultiOutputRegressor(ml).fit(x_train_vec, y_train)\n",
    "\n",
    "        score = moc.score(x_dev_vec, y_dev)\n",
    "        if score > best_score:\n",
    "            best_score = score\n",
    "            best_params = permuatation\n",
    "\n",
    "\n",
    "print('Best validation score:', best_score, ' Best params:', best_params)"
   ]
  },
  {
   "cell_type": "code",
   "execution_count": 7,
   "id": "4889fe33-ae8c-48a8-a649-55a52db4ce84",
   "metadata": {},
   "outputs": [],
   "source": [
    "ml_svm = svm.SVR(**best_params)\n",
    "moc_svm = MultiOutputRegressor(ml_svm).fit(x_train_vec, y_train)"
   ]
  },
  {
   "cell_type": "code",
   "execution_count": 10,
   "id": "2d7c3b70-6bdd-4dab-9676-1be37eb15b12",
   "metadata": {},
   "outputs": [],
   "source": [
    "with open('svm_model.pickle', 'wb') as f:\n",
    "    pkl.dump(moc_svm, f)"
   ]
  },
  {
   "cell_type": "code",
   "execution_count": null,
   "id": "71d4f09f-9dd6-4b4e-b5c8-62dc158b119d",
   "metadata": {},
   "outputs": [],
   "source": [
    "param_grid = [\n",
    "              {'solver': ['sgd'],\n",
    "              'activation': ['identity'],\n",
    "              'random_state': [42,0,420,7],\n",
    "              'max_iter': [100000],\n",
    "              'learning_rate': ['invscaling'],\n",
    "              'learning_rate_init': [0.2, 0.1, 0.03, 0.001, 0.003, 0.0001, 0.0003]},\n",
    "              {'solver': ['sgd'],\n",
    "              'activation': ['relu'],\n",
    "              'random_state': [42,0,420,7],\n",
    "              'max_iter': [100000],\n",
    "              'learning_rate': ['invscaling'],\n",
    "              'learning_rate_init': [1, 0.3, 0.2, 0.1, 0.03, 0.001, 0.003, 0.0001, 0.0003]},\n",
    "              {'solver': ['adam'],\n",
    "              'activation': ['identity', 'logistic', 'tanh', 'relu'], \n",
    "              'random_state': [42,0,420,7],\n",
    "              'max_iter': [1000000],\n",
    "              'learning_rate_init': [1, 0.3, 0.1, 0.03, 0.01, 0.0003, 0.0001, 0.00003, 0.00001, 0.000003, 0.000001, 0.0000003, 0.0000001, 0.00000003, 0.00000001]}\n",
    "              ]\n",
    "\n",
    "best_score = 0\n",
    "best_params = None\n",
    "\n",
    "for sets_of_params in param_grid:\n",
    "    keys, values = zip(*sets_of_params.items())\n",
    "    permutations_dicts = [dict(zip(keys, v)) for v in itertools.product(*values)]\n",
    "    for permuatation in permutations_dicts:\n",
    "        ml = MLPRegressor(**permuatation)\n",
    "        moc = MultiOutputRegressor(ml).fit(x_train_vec, y_train)\n",
    "\n",
    "        score = moc.score(x_dev_vec, y_dev)\n",
    "        if score > best_score:\n",
    "            best_score = score\n",
    "            best_params = permuatation\n",
    "\n",
    "\n",
    "print('Best validation score:', best_score, ' Best params:', best_params)"
   ]
  },
  {
   "cell_type": "code",
   "execution_count": 5,
   "id": "e6b68e08-4738-433f-8c0b-0c8e2db9f3f8",
   "metadata": {},
   "outputs": [],
   "source": [
    "ml_NN = MLPRegressor(**best_params)\n",
    "moc_NN = MultiOutputRegressor(ml_NN).fit(x_train_vec, y_train)"
   ]
  },
  {
   "cell_type": "code",
   "execution_count": 7,
   "id": "38592120-fec1-4e20-b3a3-9931ae45b844",
   "metadata": {},
   "outputs": [],
   "source": [
    "with open('NN_model.pickle', 'wb') as f:\n",
    "    pkl.dump(moc_NN, f)"
   ]
  },
  {
   "cell_type": "code",
   "execution_count": null,
   "id": "6e6e5056-e72c-4f4b-b338-7a423ff95458",
   "metadata": {},
   "outputs": [],
   "source": [
    "param_grid = [\n",
    "              {\n",
    "              'splitter': ['best', 'random'],\n",
    "              'criterion': ['squared_error','friedman_mse'],\n",
    "              'max_depth': [None,1,2,3,4,5],\n",
    "              'ccp_alpha': [0.0,0.003,0.01,0.03],\n",
    "              'random_state': [42,0,420,7],\n",
    "              'max_features': ['auto', 'sqrt', 'log2']\n",
    "              }\n",
    "              ]\n",
    "\n",
    "\n",
    "best_score = 0\n",
    "best_params = None\n",
    "\n",
    "for sets_of_params in param_grid:\n",
    "    keys, values = zip(*sets_of_params.items())\n",
    "    permutations_dicts = [dict(zip(keys, v)) for v in itertools.product(*values)]\n",
    "    for permuatation in permutations_dicts:\n",
    "        ml = DecisionTreeRegressor(**permuatation)\n",
    "        moc = MultiOutputRegressor(ml).fit(x_train_vec, y_train)\n",
    "\n",
    "        score = moc.score(x_dev_vec, y_dev)\n",
    "        if score > best_score:\n",
    "            best_score = score\n",
    "            best_params = permuatation\n",
    "\n",
    "\n",
    "print('Best validation score:', best_score, ' Best params:', best_params)"
   ]
  },
  {
   "cell_type": "code",
   "execution_count": 8,
   "id": "f90c18e8-fc79-4f18-bd0c-8324868d4f07",
   "metadata": {},
   "outputs": [],
   "source": [
    "ml_DT = DecisionTreeRegressor(**best_params)\n",
    "moc_DT = MultiOutputRegressor(ml_DT).fit(x_train_vec, y_train)"
   ]
  },
  {
   "cell_type": "code",
   "execution_count": 9,
   "id": "78a070ad-6c25-4310-bcc4-9d469a25cbbf",
   "metadata": {},
   "outputs": [],
   "source": [
    "with open('DT_model.pickle', 'wb') as f:\n",
    "    pkl.dump(moc_DT, f)"
   ]
  },
  {
   "cell_type": "code",
   "execution_count": null,
   "id": "454298de-edf6-414b-9eb1-935bf763f8ec",
   "metadata": {},
   "outputs": [],
   "source": [
    "######################################################"
   ]
  },
  {
   "cell_type": "code",
   "execution_count": 5,
   "id": "29e826be-dc3f-446e-8bb6-48f8000ddfe1",
   "metadata": {},
   "outputs": [],
   "source": [
    "with open('processed_data.pickle', 'rb') as f:\n",
    "    data = pkl.load(f)\n",
    "\n",
    "x_test_vec, y_train, x_dev_vec, y_dev, x_train_vec, y_test = data "
   ]
  },
  {
   "cell_type": "code",
   "execution_count": 6,
   "id": "8ea9ede6-37a2-47d0-b1f9-a3764fbf04c2",
   "metadata": {},
   "outputs": [],
   "source": [
    "with open('svm_model.pickle', 'rb') as f:\n",
    "    moc_svm = pkl.load(f)"
   ]
  },
  {
   "cell_type": "code",
   "execution_count": 7,
   "id": "2c3f90c1-910b-4e30-9794-e0cf514bb74a",
   "metadata": {},
   "outputs": [],
   "source": [
    "errors = []\n",
    "y_pred=moc_svm.predict(x_test_vec)\n",
    "for idx in range(y_test.shape[1]):\n",
    "    test_accuracy=metrics.r2_score(y_test.iloc[:, idx],y_pred[:, idx])\n",
    "    errors.append(test_accuracy)"
   ]
  },
  {
   "cell_type": "code",
   "execution_count": 8,
   "id": "cc9cd3c7-e545-46c0-bd21-f1edeb539db1",
   "metadata": {},
   "outputs": [
    {
     "data": {
      "text/plain": [
       "[0.22645339314685775,\n",
       " 0.11851743438535434,\n",
       " 0.012898307892732719,\n",
       " -0.056318720941648026,\n",
       " -0.01662426522727989,\n",
       " 0.07465880673287562,\n",
       " 0.14998690870823916,\n",
       " 0.25270330479125847,\n",
       " 0.4244042568044425,\n",
       " 0.08251151121270694]"
      ]
     },
     "execution_count": 8,
     "metadata": {},
     "output_type": "execute_result"
    },
    {
     "data": {
      "image/png": "[encoded data removed]",
      "text/plain": [
       "<Figure size 720x288 with 1 Axes>"
      ]
     },
     "metadata": {
      "needs_background": "light"
     },
     "output_type": "display_data"
    }
   ],
   "source": [
    "f = plt.figure()\n",
    "f.set_figwidth(10)\n",
    "plt.bar(y_train.columns,errors)\n",
    "errors"
   ]
  },
  {
   "cell_type": "code",
   "execution_count": 9,
   "id": "1a770236-94fd-4395-9406-ae118abd5de9",
   "metadata": {},
   "outputs": [],
   "source": [
    "with open('NN_model.pickle', 'rb') as f:\n",
    "    moc_NN = pkl.load(f)"
   ]
  },
  {
   "cell_type": "code",
   "execution_count": 10,
   "id": "97cfa298-e6c6-4213-939a-53f5284728af",
   "metadata": {},
   "outputs": [],
   "source": [
    "errors = []\n",
    "y_pred=moc_NN.predict(x_test_vec)\n",
    "for idx in range(y_test.shape[1]):\n",
    "    test_accuracy=metrics.r2_score(y_test.iloc[:, idx],y_pred[:, idx])\n",
    "    errors.append(test_accuracy)"
   ]
  },
  {
   "cell_type": "code",
   "execution_count": 11,
   "id": "5818c4f8-e0ff-4146-b918-fe39ccefe0bf",
   "metadata": {},
   "outputs": [
    {
     "data": {
      "text/plain": [
       "[0.20947464837965635,\n",
       " 0.16472601748423954,\n",
       " 0.04459581359841869,\n",
       " 0.02607526482911049,\n",
       " 0.02619383028375588,\n",
       " 0.13534597355793376,\n",
       " 0.14076414716575392,\n",
       " 0.2661000287065661,\n",
       " 0.4457480296601163,\n",
       " 0.07427640080697562]"
      ]
     },
     "execution_count": 11,
     "metadata": {},
     "output_type": "execute_result"
    },
    {
     "data": {
      "image/png": "[encoded data removed]",
      "text/plain": [
       "<Figure size 720x288 with 1 Axes>"
      ]
     },
     "metadata": {
      "needs_background": "light"
     },
     "output_type": "display_data"
    }
   ],
   "source": [
    "f = plt.figure()\n",
    "f.set_figwidth(10)\n",
    "plt.bar(y_train.columns,errors)\n",
    "errors"
   ]
  },
  {
   "cell_type": "code",
   "execution_count": 12,
   "id": "6aadcc76-4138-4c20-b023-7841873de9df",
   "metadata": {},
   "outputs": [],
   "source": [
    "with open('DT_model.pickle', 'rb') as f:\n",
    "    moc_DT = pkl.load(f)"
   ]
  },
  {
   "cell_type": "code",
   "execution_count": 13,
   "id": "43ef41d7-5583-46a8-8299-b0f09b0090af",
   "metadata": {},
   "outputs": [],
   "source": [
    "errors = []\n",
    "y_pred=moc_DT.predict(x_test_vec)\n",
    "for idx in range(y_test.shape[1]):\n",
    "    test_accuracy=metrics.r2_score(y_test.iloc[:, idx],y_pred[:, idx])\n",
    "    errors.append(test_accuracy)"
   ]
  },
  {
   "cell_type": "code",
   "execution_count": 14,
   "id": "499cb992-39aa-48dc-8649-8558f0e75524",
   "metadata": {},
   "outputs": [
    {
     "data": {
      "text/plain": [
       "[0.21240783586327816,\n",
       " 0.14525385425005877,\n",
       " 0.027041518206038062,\n",
       " 0.027816464495310167,\n",
       " 0.00229129972707498,\n",
       " 0.09717948086472838,\n",
       " 0.12996113537356835,\n",
       " 0.2050163416852736,\n",
       " 0.3302789044838432,\n",
       " 0.008298892875231778]"
      ]
     },
     "execution_count": 14,
     "metadata": {},
     "output_type": "execute_result"
    },
    {
     "data": {
      "image/png": "[encoded data removed]",
      "text/plain": [
       "<Figure size 720x288 with 1 Axes>"
      ]
     },
     "metadata": {
      "needs_background": "light"
     },
     "output_type": "display_data"
    }
   ],
   "source": [
    "f = plt.figure()\n",
    "f.set_figwidth(10)\n",
    "plt.bar(y_train.columns,errors)\n",
    "errors"
   ]
  },
  {
   "cell_type": "code",
   "execution_count": 15,
   "id": "fa8970d9-b579-435f-a655-754efb02dd96",
   "metadata": {},
   "outputs": [],
   "source": [
    "y_test_org = load_orginal_y(['test.xlsx'])[0]\n",
    "y_test_org_x = (y_test_org.iloc[:,10:]).set_axis(['joy', 'trust', 'anticipation', 'surprise', 'fear', 'sadness', 'disgust', 'anger', 'valence', 'arousal'],axis=1)\n",
    "y_test_org_y = (y_test_org.iloc[:,:10]).set_axis(['joy', 'trust', 'anticipation', 'surprise', 'fear', 'sadness', 'disgust', 'anger', 'valence', 'arousal'],axis=1)\n",
    "y_pred_test_org = pd.concat([y_test_org_x, y_test_org_y])\n",
    "y_true_test_org = pd.concat([y_test_org_y, y_test_org_x])"
   ]
  },
  {
   "cell_type": "code",
   "execution_count": 16,
   "id": "69dd88e5-9b9f-4e22-957f-288beb290c82",
   "metadata": {},
   "outputs": [],
   "source": [
    "r2_annotator_test = metrics.r2_score(y_true_test_org, y_pred_test_org)"
   ]
  },
  {
   "cell_type": "code",
   "execution_count": 17,
   "id": "81f64e5e-0842-4417-b80f-9b69698a2661",
   "metadata": {},
   "outputs": [],
   "source": [
    "errors = []\n",
    "for idx in range(y_test.shape[1]):\n",
    "    test_accuracy=metrics.r2_score(y_true_test_org.iloc[:, idx],y_pred_test_org.iloc[:, idx])\n",
    "    errors.append(test_accuracy)"
   ]
  },
  {
   "cell_type": "code",
   "execution_count": 18,
   "id": "47b1f055-3f22-4657-af3c-16e2558c6cef",
   "metadata": {},
   "outputs": [
    {
     "data": {
      "text/plain": [
       "[0.3716978437812367,\n",
       " 0.4041139644819215,\n",
       " -0.006500719878375749,\n",
       " 0.04375590029730436,\n",
       " 0.36181960525773615,\n",
       " 0.2036371391218077,\n",
       " 0.11525210721327805,\n",
       " 0.47416490965991287,\n",
       " 0.5892996603216125,\n",
       " 0.11758528405433777]"
      ]
     },
     "execution_count": 18,
     "metadata": {},
     "output_type": "execute_result"
    },
    {
     "data": {
      "image/png": "[encoded data removed]",
      "text/plain": [
       "<Figure size 720x288 with 1 Axes>"
      ]
     },
     "metadata": {
      "needs_background": "light"
     },
     "output_type": "display_data"
    }
   ],
   "source": [
    "f = plt.figure()\n",
    "f.set_figwidth(10)\n",
    "plt.bar(y_train.columns,errors)\n",
    "errors"
   ]
  },
  {
   "cell_type": "code",
   "execution_count": 19,
   "id": "95dc3192-df01-4c6b-b25c-86102446146b",
   "metadata": {},
   "outputs": [],
   "source": [
    "y_train_org, y_dev_org, y_test_org = load_orginal_y()"
   ]
  },
  {
   "cell_type": "code",
   "execution_count": 20,
   "id": "28272356-14ae-41e6-adc8-1539231b225d",
   "metadata": {},
   "outputs": [],
   "source": [
    "y_org_all = pd.concat([y_train_org, y_dev_org, y_test_org])\n",
    "y_org_x = (y_org_all.iloc[:,10:]).set_axis(['joy', 'trust', 'anticipation', 'surprise', 'fear', 'sadness', 'disgust', 'anger', 'valence', 'arousal'],axis=1)\n",
    "y_org_y = (y_org_all.iloc[:,:10]).set_axis(['joy', 'trust', 'anticipation', 'surprise', 'fear', 'sadness', 'disgust', 'anger', 'valence', 'arousal'],axis=1)\n",
    "y_pred_org = pd.concat([y_org_y, y_org_x])\n",
    "y_true_org = pd.concat([y_org_x, y_org_y])"
   ]
  },
  {
   "cell_type": "code",
   "execution_count": 21,
   "id": "e70e3afd-d645-44fa-b5e4-826ab329a19b",
   "metadata": {},
   "outputs": [],
   "source": [
    "errors = []\n",
    "for idx in range(y_test.shape[1]):\n",
    "    test_accuracy=metrics.r2_score(y_true_org.iloc[:, idx], y_pred_org.iloc[:, idx])\n",
    "    errors.append(test_accuracy)"
   ]
  },
  {
   "cell_type": "code",
   "execution_count": 22,
   "id": "2b0d3247-c0f6-4f1c-8696-39ee5417badb",
   "metadata": {},
   "outputs": [
    {
     "data": {
      "text/plain": [
       "[0.3454115630322796,\n",
       " 0.4178430192791186,\n",
       " 0.056371893648730964,\n",
       " -0.06958635456987672,\n",
       " 0.39844109688246954,\n",
       " 0.17138128553896503,\n",
       " 0.20355129412837758,\n",
       " 0.48397849301816986,\n",
       " 0.6133621587501158,\n",
       " 0.16296089606896869]"
      ]
     },
     "execution_count": 22,
     "metadata": {},
     "output_type": "execute_result"
    },
    {
     "data": {
      "image/png": "[encoded data removed]",
      "text/plain": [
       "<Figure size 720x288 with 1 Axes>"
      ]
     },
     "metadata": {
      "needs_background": "light"
     },
     "output_type": "display_data"
    }
   ],
   "source": [
    "f = plt.figure()\n",
    "f.set_figwidth(10)\n",
    "plt.bar(y_train.columns,errors)\n",
    "errors"
   ]
  },
  {
   "cell_type": "code",
   "execution_count": 23,
   "id": "5c3dc7d0-f07b-41e9-81d4-bc7e597bbc1d",
   "metadata": {},
   "outputs": [],
   "source": [
    "r2_annotator_all = metrics.r2_score(y_pred_org, y_true_org)"
   ]
  },
  {
   "cell_type": "code",
   "execution_count": 24,
   "id": "5ed5e386-10e5-49c0-b7bf-0bc102ee18da",
   "metadata": {},
   "outputs": [],
   "source": [
    "r2_svm = moc_svm.score(x_test_vec, y_test)"
   ]
  },
  {
   "cell_type": "code",
   "execution_count": 25,
   "id": "8cba439e-a620-45f5-9d7e-ed7837a3b557",
   "metadata": {},
   "outputs": [],
   "source": [
    "r2_NN = moc_NN.score(x_test_vec, y_test)"
   ]
  },
  {
   "cell_type": "code",
   "execution_count": 26,
   "id": "5ae97e94-874a-4138-a19b-f29068c77079",
   "metadata": {},
   "outputs": [
    {
     "data": {
      "text/plain": [
       "0.11855457278244055"
      ]
     },
     "execution_count": 26,
     "metadata": {},
     "output_type": "execute_result"
    }
   ],
   "source": [
    "r2_DT = moc_DT.score(x_test_vec, y_test)"
   ]
  },
  {
   "cell_type": "code",
   "execution_count": 27,
   "id": "5bf7155e-8978-4c38-9ca6-9e513d8145c7",
   "metadata": {},
   "outputs": [
    {
     "data": {
      "text/plain": [
       "[0.12691909375055394,\n",
       " 0.11855457278244055,\n",
       " 0.15333001544725267,\n",
       " 0.26748256943107723,\n",
       " 0.2783715345777319]"
      ]
     },
     "execution_count": 27,
     "metadata": {},
     "output_type": "execute_result"
    },
    {
     "data": {
      "image/png": "[encoded data removed]",
      "text/plain": [
       "<Figure size 720x288 with 1 Axes>"
      ]
     },
     "metadata": {
      "needs_background": "light"
     },
     "output_type": "display_data"
    }
   ],
   "source": [
    "r2_values = [r2_svm, r2_DT, r2_NN, r2_annotator_test, r2_annotator_all]\n",
    "method_names = ['SVM', 'DT', 'NN', 'Annotator (test)', 'Annotator (all)']\n",
    "\n",
    "f = plt.figure()\n",
    "f.set_figwidth(10)\n",
    "plt.bar(method_names, r2_values)\n",
    "r2_values"
   ]
  },
  {
   "cell_type": "code",
   "execution_count": null,
   "id": "870ef69b-4b80-4206-8f2d-abac7eaaa296",
   "metadata": {},
   "outputs": [],
   "source": []
  }
 ],
 "metadata": {
  "kernelspec": {
   "display_name": "Python 3 (ipykernel)",
   "language": "python",
   "name": "python3"
  },
  "language_info": {
   "codemirror_mode": {
    "name": "ipython",
    "version": 3
   },
   "file_extension": ".py",
   "mimetype": "text/x-python",
   "name": "python",
   "nbconvert_exporter": "python",
   "pygments_lexer": "ipython3",
   "version": "3.9.7"
  }
 },
 "nbformat": 4,
 "nbformat_minor": 5
}
