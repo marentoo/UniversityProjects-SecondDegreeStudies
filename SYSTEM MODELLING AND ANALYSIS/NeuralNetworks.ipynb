{
  "nbformat": 4,
  "nbformat_minor": 0,
  "metadata": {
    "colab": {
      "name": "NeuralNetworks.ipynb",
      "provenance": [],
      "collapsed_sections": []
    },
    "kernelspec": {
      "name": "python3",
      "display_name": "Python 3"
    },
    "language_info": {
      "name": "python"
    }
  },
  "cells": [
    {
      "cell_type": "code",
      "execution_count": null,
      "metadata": {
        "id": "uKcPHJinrsWg"
      },
      "outputs": [],
      "source": [
        "import numpy as np\n",
        "import pandas as pd\n",
        "\n",
        "np.set_printoptions(precision=3, suppress=True)\n"
      ]
    },
    {
      "cell_type": "code",
      "source": [
        "annotators = ['x', 'y']\n",
        "train_sheet = pd.read_csv('/content/train.csv', sep=',', usecols=range(22))\n",
        "test_sheet = pd.read_csv('/content/test.csv', sep=',', usecols=range(22))\n",
        "\n",
        "\n",
        "#creating list with all column names from our sample sheet\n",
        "column_names_raw = list(train_sheet.columns.values);\n",
        "\n",
        "#manually removed two first columns\n",
        "column_names_raw.remove('Unnamed: 0');\n",
        "column_names_raw.remove('text');\n",
        "column_names_raw.remove('valence_x');\n",
        "column_names_raw.remove('arousal_x');\n",
        "column_names_raw.remove('valence_y');\n",
        "column_names_raw.remove('arousal_y');\n",
        "\n",
        "#now the binary part, replaced all values != 0 with 1\n",
        "df = train_sheet == 0;\n",
        "binary_train_sheet = train_sheet[column_names_raw].where(df, 1);\n",
        "df = test_sheet == 0;\n",
        "binary_test_sheet = test_sheet[column_names_raw].where(df, 1);\n",
        "\n",
        "#removed repeating values\n",
        "import math;\n",
        "\n",
        "#sorted array, because after that i just need to remove every second column\n",
        "# to get a set of all columns without annotators\n",
        "column_names_raw.sort();\n",
        "emotion_names = [];\n",
        "for i in range(len(column_names_raw)):\n",
        "  if(i%2 == 0): #removing everything after '_' in every second column, starting from first one\n",
        "    emotion_names.append(column_names_raw[i].split('_')[0]);\n",
        "\n",
        "#this leaves us nicely sorted array with our emotions set\n",
        "emotion_names\n"
      ],
      "metadata": {
        "colab": {
          "base_uri": "https://localhost:8080/"
        },
        "id": "x2HBfFc3vXDI",
        "outputId": "4bc636d1-2d7f-4809-e399-29f8edaf6fcd"
      },
      "execution_count": null,
      "outputs": [
        {
          "output_type": "execute_result",
          "data": {
            "text/plain": [
              "['anger',\n",
              " 'anticipation',\n",
              " 'disgust',\n",
              " 'fear',\n",
              " 'joy',\n",
              " 'sadness',\n",
              " 'surprise',\n",
              " 'trust']"
            ]
          },
          "metadata": {},
          "execution_count": 2
        }
      ]
    },
    {
      "cell_type": "code",
      "source": [
        "#create combinations list, which contains two element vectors, which are [emotion + annotator 1, emotion + annotator 2]\n",
        "combinations = list();\n",
        "for emotion in emotion_names:\n",
        "  combinations.append([emotion + '_' + annotators[0], emotion + '_' + annotators[1]]);\n",
        "\n",
        "combinations"
      ],
      "metadata": {
        "colab": {
          "base_uri": "https://localhost:8080/"
        },
        "id": "n9-Qazct8YGf",
        "outputId": "604f128b-3c6b-4157-a918-6f1fd2fe7044"
      },
      "execution_count": null,
      "outputs": [
        {
          "output_type": "execute_result",
          "data": {
            "text/plain": [
              "[['anger_x', 'anger_y'],\n",
              " ['anticipation_x', 'anticipation_y'],\n",
              " ['disgust_x', 'disgust_y'],\n",
              " ['fear_x', 'fear_y'],\n",
              " ['joy_x', 'joy_y'],\n",
              " ['sadness_x', 'sadness_y'],\n",
              " ['surprise_x', 'surprise_y'],\n",
              " ['trust_x', 'trust_y']]"
            ]
          },
          "metadata": {},
          "execution_count": 3
        }
      ]
    },
    {
      "cell_type": "code",
      "source": [
        "temp_train_data = np.zeros((train_sheet.values.shape[0], 0));\n",
        "temp_test_data = np.zeros((test_sheet.values.shape[0], 0));\n",
        "\n",
        "for (c1, c2) in combinations: #for each combination we are calculating avg for them\n",
        "  temp_train = binary_train_sheet[[c1,c2]];\n",
        "  temp_train_avg = np.round((temp_train[c1] + temp_train[c2])/2);\n",
        "  temp_train_data = np.column_stack((temp_train_data, temp_train_avg));\n",
        "\n",
        "processed_train_data = np.array(temp_train_data);\n",
        "\n",
        "for (c1, c2) in combinations: #for each combination we are calculating avg for them\n",
        "  temp_test = binary_test_sheet[[c1,c2]];\n",
        "  temp_test_avg = np.round((temp_test[c1] + temp_test[c2])/2);\n",
        "  temp_test_data = np.column_stack((temp_test_data, temp_test_avg));\n",
        "\n",
        "processed_test_data = np.array(temp_test_data);"
      ],
      "metadata": {
        "id": "pLuykxr1vLZT"
      },
      "execution_count": null,
      "outputs": []
    },
    {
      "cell_type": "code",
      "source": [
        "#vectorize sentences in train and test data\n",
        "\n",
        "import keras\n",
        "from keras.models import Sequential\n",
        "from keras import layers\n",
        "from sklearn.feature_extraction.text import CountVectorizer\n",
        "\n",
        "sentences = train_sheet.values[:, 1];\n",
        "vectorizer = CountVectorizer(min_df=0, lowercase=False);\n",
        "vectorizer.fit(sentences)\n",
        "\n",
        "temp = vectorizer.transform(train_sheet.values[:, 1])\n",
        "X_train = np.array(temp.toarray());\n",
        "Y_train = np.array(processed_train_data);\n",
        "temp = vectorizer.transform(test_sheet.values[:, 1])\n",
        "X_test = np.array(temp.toarray());\n",
        "Y_test = np.array(processed_test_data);\n"
      ],
      "metadata": {
        "id": "256nOd0BcR3h"
      },
      "execution_count": null,
      "outputs": []
    },
    {
      "cell_type": "code",
      "source": [
        "X_train.shape[1]"
      ],
      "metadata": {
        "colab": {
          "base_uri": "https://localhost:8080/"
        },
        "id": "vMBTc8PJwvlY",
        "outputId": "1bfd4e8e-0ec3-4110-c081-fe128b6f8755"
      },
      "execution_count": null,
      "outputs": [
        {
          "output_type": "execute_result",
          "data": {
            "text/plain": [
              "15161"
            ]
          },
          "metadata": {},
          "execution_count": 53
        }
      ]
    },
    {
      "cell_type": "code",
      "source": [
        "input_dim = X_train.shape[1]  # Number of features\n",
        "\n",
        "activationFunc = 'sigmoid'\n",
        "\n",
        "model = Sequential()\n",
        "model.add(keras.Input(X_train.shape[1]))\n",
        "model.add(layers.Dense((int)((X_train.shape[1]+10)/16), activation='relu'))\n",
        "#model.add(layers.Dense((int)(len(emotion_names)), activation='relu'))\n",
        "model.add(layers.Dense((int)(len(emotion_names)), activation=activationFunc))\n",
        "\n",
        "model.compile(loss=keras.losses.BinaryCrossentropy(), \n",
        "              optimizer=keras.optimizers.adam_v2.Adam(), \n",
        "              metrics=['binary_accuracy'])\n",
        "model.summary()\n"
      ],
      "metadata": {
        "colab": {
          "base_uri": "https://localhost:8080/"
        },
        "id": "6DiCXldDgxsc",
        "outputId": "3e308268-794a-4efc-e17b-6e67faec1de5"
      },
      "execution_count": null,
      "outputs": [
        {
          "output_type": "stream",
          "name": "stdout",
          "text": [
            "Model: \"sequential\"\n",
            "_________________________________________________________________\n",
            " Layer (type)                Output Shape              Param #   \n",
            "=================================================================\n",
            " dense (Dense)               (None, 948)               14373576  \n",
            "                                                                 \n",
            " dense_1 (Dense)             (None, 8)                 7592      \n",
            "                                                                 \n",
            "=================================================================\n",
            "Total params: 14,381,168\n",
            "Trainable params: 14,381,168\n",
            "Non-trainable params: 0\n",
            "_________________________________________________________________\n"
          ]
        }
      ]
    },
    {
      "cell_type": "code",
      "source": [
        "keras.backend.clear_session()\n",
        "history = model.fit(X_train, Y_train,\n",
        "                    shuffle=True, \n",
        "                    epochs=100,\n",
        "                    verbose=1,\n",
        "                    validation_split=0.9)"
      ],
      "metadata": {
        "colab": {
          "base_uri": "https://localhost:8080/"
        },
        "id": "7BJ8W2OWhgXA",
        "outputId": "5e8786e7-aba6-40f9-f163-41c177a23783"
      },
      "execution_count": null,
      "outputs": [
        {
          "output_type": "stream",
          "name": "stdout",
          "text": [
            "Epoch 1/100\n",
            "9/9 [==============================] - 4s 419ms/step - loss: 0.5787 - binary_accuracy: 0.7411 - val_loss: 0.5844 - val_binary_accuracy: 0.7764\n",
            "Epoch 2/100\n",
            "9/9 [==============================] - 3s 392ms/step - loss: 0.3855 - binary_accuracy: 0.8308 - val_loss: 0.5313 - val_binary_accuracy: 0.7865\n",
            "Epoch 3/100\n",
            "9/9 [==============================] - 3s 399ms/step - loss: 0.2700 - binary_accuracy: 0.9290 - val_loss: 0.5528 - val_binary_accuracy: 0.7828\n",
            "Epoch 4/100\n",
            "9/9 [==============================] - 3s 396ms/step - loss: 0.1824 - binary_accuracy: 0.9509 - val_loss: 0.5879 - val_binary_accuracy: 0.7858\n",
            "Epoch 5/100\n",
            "9/9 [==============================] - 3s 393ms/step - loss: 0.1230 - binary_accuracy: 0.9768 - val_loss: 0.6161 - val_binary_accuracy: 0.7846\n",
            "Epoch 6/100\n",
            "9/9 [==============================] - 3s 391ms/step - loss: 0.0842 - binary_accuracy: 0.9897 - val_loss: 0.6616 - val_binary_accuracy: 0.7848\n",
            "Epoch 7/100\n",
            "9/9 [==============================] - 3s 394ms/step - loss: 0.0584 - binary_accuracy: 0.9924 - val_loss: 0.7114 - val_binary_accuracy: 0.7847\n",
            "Epoch 8/100\n",
            "9/9 [==============================] - 3s 394ms/step - loss: 0.0433 - binary_accuracy: 0.9960 - val_loss: 0.7400 - val_binary_accuracy: 0.7837\n",
            "Epoch 9/100\n",
            "9/9 [==============================] - 3s 393ms/step - loss: 0.0335 - binary_accuracy: 0.9982 - val_loss: 0.7864 - val_binary_accuracy: 0.7838\n",
            "Epoch 10/100\n",
            "9/9 [==============================] - 3s 388ms/step - loss: 0.0262 - binary_accuracy: 0.9991 - val_loss: 0.8105 - val_binary_accuracy: 0.7828\n",
            "Epoch 11/100\n",
            "9/9 [==============================] - 3s 387ms/step - loss: 0.0217 - binary_accuracy: 0.9996 - val_loss: 0.8425 - val_binary_accuracy: 0.7826\n",
            "Epoch 12/100\n",
            "9/9 [==============================] - 3s 393ms/step - loss: 0.0182 - binary_accuracy: 1.0000 - val_loss: 0.8763 - val_binary_accuracy: 0.7821\n",
            "Epoch 13/100\n",
            "9/9 [==============================] - 3s 392ms/step - loss: 0.0153 - binary_accuracy: 1.0000 - val_loss: 0.8903 - val_binary_accuracy: 0.7822\n",
            "Epoch 14/100\n",
            "9/9 [==============================] - 3s 404ms/step - loss: 0.0131 - binary_accuracy: 1.0000 - val_loss: 0.9144 - val_binary_accuracy: 0.7817\n",
            "Epoch 15/100\n",
            "9/9 [==============================] - 6s 772ms/step - loss: 0.0115 - binary_accuracy: 1.0000 - val_loss: 0.9406 - val_binary_accuracy: 0.7813\n",
            "Epoch 16/100\n",
            "9/9 [==============================] - 4s 464ms/step - loss: 0.0100 - binary_accuracy: 1.0000 - val_loss: 0.9645 - val_binary_accuracy: 0.7816\n",
            "Epoch 17/100\n",
            "9/9 [==============================] - 4s 461ms/step - loss: 0.0087 - binary_accuracy: 1.0000 - val_loss: 0.9749 - val_binary_accuracy: 0.7813\n",
            "Epoch 18/100\n",
            "9/9 [==============================] - 4s 473ms/step - loss: 0.0078 - binary_accuracy: 1.0000 - val_loss: 0.9948 - val_binary_accuracy: 0.7816\n",
            "Epoch 19/100\n",
            "9/9 [==============================] - 4s 455ms/step - loss: 0.0069 - binary_accuracy: 1.0000 - val_loss: 1.0064 - val_binary_accuracy: 0.7806\n",
            "Epoch 20/100\n",
            "9/9 [==============================] - 4s 455ms/step - loss: 0.0062 - binary_accuracy: 1.0000 - val_loss: 1.0339 - val_binary_accuracy: 0.7807\n",
            "Epoch 21/100\n",
            "9/9 [==============================] - 6s 770ms/step - loss: 0.0055 - binary_accuracy: 1.0000 - val_loss: 1.0436 - val_binary_accuracy: 0.7807\n",
            "Epoch 22/100\n",
            "9/9 [==============================] - 4s 463ms/step - loss: 0.0050 - binary_accuracy: 1.0000 - val_loss: 1.0577 - val_binary_accuracy: 0.7804\n",
            "Epoch 23/100\n",
            "9/9 [==============================] - 4s 468ms/step - loss: 0.0045 - binary_accuracy: 1.0000 - val_loss: 1.0733 - val_binary_accuracy: 0.7800\n",
            "Epoch 24/100\n",
            "9/9 [==============================] - 4s 466ms/step - loss: 0.0041 - binary_accuracy: 1.0000 - val_loss: 1.0918 - val_binary_accuracy: 0.7796\n",
            "Epoch 25/100\n",
            "9/9 [==============================] - 6s 770ms/step - loss: 0.0037 - binary_accuracy: 1.0000 - val_loss: 1.1042 - val_binary_accuracy: 0.7795\n",
            "Epoch 26/100\n",
            "9/9 [==============================] - 3s 414ms/step - loss: 0.0034 - binary_accuracy: 1.0000 - val_loss: 1.1153 - val_binary_accuracy: 0.7791\n",
            "Epoch 27/100\n",
            "9/9 [==============================] - 4s 546ms/step - loss: 0.0031 - binary_accuracy: 1.0000 - val_loss: 1.1281 - val_binary_accuracy: 0.7789\n",
            "Epoch 28/100\n",
            "9/9 [==============================] - 4s 491ms/step - loss: 0.0029 - binary_accuracy: 1.0000 - val_loss: 1.1457 - val_binary_accuracy: 0.7793\n",
            "Epoch 29/100\n",
            "9/9 [==============================] - 5s 541ms/step - loss: 0.0026 - binary_accuracy: 1.0000 - val_loss: 1.1568 - val_binary_accuracy: 0.7788\n",
            "Epoch 30/100\n",
            "9/9 [==============================] - 4s 425ms/step - loss: 0.0024 - binary_accuracy: 1.0000 - val_loss: 1.1654 - val_binary_accuracy: 0.7787\n",
            "Epoch 31/100\n",
            "9/9 [==============================] - 3s 403ms/step - loss: 0.0023 - binary_accuracy: 1.0000 - val_loss: 1.1753 - val_binary_accuracy: 0.7786\n",
            "Epoch 32/100\n",
            "9/9 [==============================] - 3s 411ms/step - loss: 0.0021 - binary_accuracy: 1.0000 - val_loss: 1.1838 - val_binary_accuracy: 0.7785\n",
            "Epoch 33/100\n",
            "9/9 [==============================] - 3s 408ms/step - loss: 0.0020 - binary_accuracy: 1.0000 - val_loss: 1.1969 - val_binary_accuracy: 0.7785\n",
            "Epoch 34/100\n",
            "9/9 [==============================] - 3s 396ms/step - loss: 0.0018 - binary_accuracy: 1.0000 - val_loss: 1.2067 - val_binary_accuracy: 0.7782\n",
            "Epoch 35/100\n",
            "9/9 [==============================] - 3s 395ms/step - loss: 0.0017 - binary_accuracy: 1.0000 - val_loss: 1.2171 - val_binary_accuracy: 0.7780\n",
            "Epoch 36/100\n",
            "9/9 [==============================] - 3s 396ms/step - loss: 0.0016 - binary_accuracy: 1.0000 - val_loss: 1.2265 - val_binary_accuracy: 0.7777\n",
            "Epoch 37/100\n",
            "9/9 [==============================] - 3s 388ms/step - loss: 0.0015 - binary_accuracy: 1.0000 - val_loss: 1.2366 - val_binary_accuracy: 0.7776\n",
            "Epoch 38/100\n",
            "9/9 [==============================] - 3s 391ms/step - loss: 0.0014 - binary_accuracy: 1.0000 - val_loss: 1.2455 - val_binary_accuracy: 0.7776\n",
            "Epoch 39/100\n",
            "9/9 [==============================] - 3s 389ms/step - loss: 0.0013 - binary_accuracy: 1.0000 - val_loss: 1.2562 - val_binary_accuracy: 0.7777\n",
            "Epoch 40/100\n",
            "9/9 [==============================] - 3s 395ms/step - loss: 0.0013 - binary_accuracy: 1.0000 - val_loss: 1.2649 - val_binary_accuracy: 0.7778\n",
            "Epoch 41/100\n",
            "9/9 [==============================] - 3s 393ms/step - loss: 0.0012 - binary_accuracy: 1.0000 - val_loss: 1.2746 - val_binary_accuracy: 0.7778\n",
            "Epoch 42/100\n",
            "9/9 [==============================] - 3s 390ms/step - loss: 0.0011 - binary_accuracy: 1.0000 - val_loss: 1.2810 - val_binary_accuracy: 0.7775\n",
            "Epoch 43/100\n",
            "9/9 [==============================] - 3s 394ms/step - loss: 0.0011 - binary_accuracy: 1.0000 - val_loss: 1.2891 - val_binary_accuracy: 0.7773\n",
            "Epoch 44/100\n",
            "9/9 [==============================] - 3s 394ms/step - loss: 0.0010 - binary_accuracy: 1.0000 - val_loss: 1.2988 - val_binary_accuracy: 0.7771\n",
            "Epoch 45/100\n",
            "9/9 [==============================] - 3s 393ms/step - loss: 9.5563e-04 - binary_accuracy: 1.0000 - val_loss: 1.3053 - val_binary_accuracy: 0.7771\n",
            "Epoch 46/100\n",
            "9/9 [==============================] - 3s 397ms/step - loss: 9.1289e-04 - binary_accuracy: 1.0000 - val_loss: 1.3128 - val_binary_accuracy: 0.7771\n",
            "Epoch 47/100\n",
            "9/9 [==============================] - 4s 434ms/step - loss: 8.7002e-04 - binary_accuracy: 1.0000 - val_loss: 1.3221 - val_binary_accuracy: 0.7770\n",
            "Epoch 48/100\n",
            "9/9 [==============================] - 4s 476ms/step - loss: 8.2342e-04 - binary_accuracy: 1.0000 - val_loss: 1.3276 - val_binary_accuracy: 0.7769\n",
            "Epoch 49/100\n",
            "9/9 [==============================] - 4s 486ms/step - loss: 7.9154e-04 - binary_accuracy: 1.0000 - val_loss: 1.3357 - val_binary_accuracy: 0.7766\n",
            "Epoch 50/100\n",
            "9/9 [==============================] - 4s 468ms/step - loss: 7.4977e-04 - binary_accuracy: 1.0000 - val_loss: 1.3419 - val_binary_accuracy: 0.7767\n",
            "Epoch 51/100\n",
            "9/9 [==============================] - 4s 471ms/step - loss: 7.2028e-04 - binary_accuracy: 1.0000 - val_loss: 1.3502 - val_binary_accuracy: 0.7766\n",
            "Epoch 52/100\n",
            "9/9 [==============================] - 6s 770ms/step - loss: 6.8520e-04 - binary_accuracy: 1.0000 - val_loss: 1.3563 - val_binary_accuracy: 0.7767\n",
            "Epoch 53/100\n",
            "9/9 [==============================] - 4s 468ms/step - loss: 6.5748e-04 - binary_accuracy: 1.0000 - val_loss: 1.3655 - val_binary_accuracy: 0.7765\n",
            "Epoch 54/100\n",
            "9/9 [==============================] - 4s 460ms/step - loss: 6.2753e-04 - binary_accuracy: 1.0000 - val_loss: 1.3717 - val_binary_accuracy: 0.7765\n",
            "Epoch 55/100\n",
            "9/9 [==============================] - 4s 433ms/step - loss: 6.0359e-04 - binary_accuracy: 1.0000 - val_loss: 1.3771 - val_binary_accuracy: 0.7764\n",
            "Epoch 56/100\n",
            "9/9 [==============================] - 4s 427ms/step - loss: 5.7863e-04 - binary_accuracy: 1.0000 - val_loss: 1.3831 - val_binary_accuracy: 0.7763\n",
            "Epoch 57/100\n",
            "9/9 [==============================] - 4s 468ms/step - loss: 5.5525e-04 - binary_accuracy: 1.0000 - val_loss: 1.3894 - val_binary_accuracy: 0.7762\n",
            "Epoch 58/100\n",
            "9/9 [==============================] - 4s 459ms/step - loss: 5.3408e-04 - binary_accuracy: 1.0000 - val_loss: 1.3960 - val_binary_accuracy: 0.7763\n",
            "Epoch 59/100\n",
            "9/9 [==============================] - 6s 766ms/step - loss: 5.1141e-04 - binary_accuracy: 1.0000 - val_loss: 1.4030 - val_binary_accuracy: 0.7761\n",
            "Epoch 60/100\n",
            "9/9 [==============================] - 6s 772ms/step - loss: 4.9447e-04 - binary_accuracy: 1.0000 - val_loss: 1.4075 - val_binary_accuracy: 0.7760\n",
            "Epoch 61/100\n",
            "9/9 [==============================] - 4s 519ms/step - loss: 4.7425e-04 - binary_accuracy: 1.0000 - val_loss: 1.4138 - val_binary_accuracy: 0.7760\n",
            "Epoch 62/100\n",
            "9/9 [==============================] - 3s 413ms/step - loss: 4.5767e-04 - binary_accuracy: 1.0000 - val_loss: 1.4197 - val_binary_accuracy: 0.7761\n",
            "Epoch 63/100\n",
            "9/9 [==============================] - 3s 413ms/step - loss: 4.4190e-04 - binary_accuracy: 1.0000 - val_loss: 1.4247 - val_binary_accuracy: 0.7762\n",
            "Epoch 64/100\n",
            "9/9 [==============================] - 3s 407ms/step - loss: 4.2575e-04 - binary_accuracy: 1.0000 - val_loss: 1.4291 - val_binary_accuracy: 0.7759\n",
            "Epoch 65/100\n",
            "9/9 [==============================] - 3s 404ms/step - loss: 4.1050e-04 - binary_accuracy: 1.0000 - val_loss: 1.4356 - val_binary_accuracy: 0.7759\n",
            "Epoch 66/100\n",
            "9/9 [==============================] - 3s 399ms/step - loss: 3.9623e-04 - binary_accuracy: 1.0000 - val_loss: 1.4427 - val_binary_accuracy: 0.7759\n",
            "Epoch 67/100\n",
            "9/9 [==============================] - 3s 394ms/step - loss: 3.8364e-04 - binary_accuracy: 1.0000 - val_loss: 1.4487 - val_binary_accuracy: 0.7759\n",
            "Epoch 68/100\n",
            "9/9 [==============================] - 3s 398ms/step - loss: 3.6896e-04 - binary_accuracy: 1.0000 - val_loss: 1.4548 - val_binary_accuracy: 0.7759\n",
            "Epoch 69/100\n",
            "9/9 [==============================] - 3s 392ms/step - loss: 3.5667e-04 - binary_accuracy: 1.0000 - val_loss: 1.4589 - val_binary_accuracy: 0.7759\n",
            "Epoch 70/100\n",
            "9/9 [==============================] - 3s 390ms/step - loss: 3.4533e-04 - binary_accuracy: 1.0000 - val_loss: 1.4638 - val_binary_accuracy: 0.7757\n",
            "Epoch 71/100\n",
            "9/9 [==============================] - 3s 388ms/step - loss: 3.3446e-04 - binary_accuracy: 1.0000 - val_loss: 1.4682 - val_binary_accuracy: 0.7754\n",
            "Epoch 72/100\n",
            "9/9 [==============================] - 3s 393ms/step - loss: 3.2397e-04 - binary_accuracy: 1.0000 - val_loss: 1.4737 - val_binary_accuracy: 0.7754\n",
            "Epoch 73/100\n",
            "9/9 [==============================] - 3s 392ms/step - loss: 3.1322e-04 - binary_accuracy: 1.0000 - val_loss: 1.4784 - val_binary_accuracy: 0.7752\n",
            "Epoch 74/100\n",
            "9/9 [==============================] - 3s 389ms/step - loss: 3.0485e-04 - binary_accuracy: 1.0000 - val_loss: 1.4834 - val_binary_accuracy: 0.7750\n",
            "Epoch 75/100\n",
            "9/9 [==============================] - 3s 392ms/step - loss: 2.9485e-04 - binary_accuracy: 1.0000 - val_loss: 1.4888 - val_binary_accuracy: 0.7750\n",
            "Epoch 76/100\n",
            "9/9 [==============================] - 3s 390ms/step - loss: 2.8597e-04 - binary_accuracy: 1.0000 - val_loss: 1.4937 - val_binary_accuracy: 0.7751\n",
            "Epoch 77/100\n",
            "9/9 [==============================] - 3s 393ms/step - loss: 2.7785e-04 - binary_accuracy: 1.0000 - val_loss: 1.4985 - val_binary_accuracy: 0.7751\n",
            "Epoch 78/100\n",
            "9/9 [==============================] - 3s 391ms/step - loss: 2.6987e-04 - binary_accuracy: 1.0000 - val_loss: 1.5028 - val_binary_accuracy: 0.7750\n",
            "Epoch 79/100\n",
            "9/9 [==============================] - 3s 391ms/step - loss: 2.6256e-04 - binary_accuracy: 1.0000 - val_loss: 1.5073 - val_binary_accuracy: 0.7748\n",
            "Epoch 80/100\n",
            "9/9 [==============================] - 3s 390ms/step - loss: 2.5505e-04 - binary_accuracy: 1.0000 - val_loss: 1.5124 - val_binary_accuracy: 0.7748\n",
            "Epoch 81/100\n",
            "9/9 [==============================] - 3s 396ms/step - loss: 2.4788e-04 - binary_accuracy: 1.0000 - val_loss: 1.5164 - val_binary_accuracy: 0.7748\n",
            "Epoch 82/100\n",
            "9/9 [==============================] - 3s 393ms/step - loss: 2.4069e-04 - binary_accuracy: 1.0000 - val_loss: 1.5201 - val_binary_accuracy: 0.7748\n",
            "Epoch 83/100\n",
            "9/9 [==============================] - 3s 396ms/step - loss: 2.3486e-04 - binary_accuracy: 1.0000 - val_loss: 1.5244 - val_binary_accuracy: 0.7748\n",
            "Epoch 84/100\n",
            "9/9 [==============================] - 3s 391ms/step - loss: 2.2818e-04 - binary_accuracy: 1.0000 - val_loss: 1.5291 - val_binary_accuracy: 0.7749\n",
            "Epoch 85/100\n",
            "9/9 [==============================] - 3s 391ms/step - loss: 2.2179e-04 - binary_accuracy: 1.0000 - val_loss: 1.5331 - val_binary_accuracy: 0.7749\n",
            "Epoch 86/100\n",
            "9/9 [==============================] - 3s 396ms/step - loss: 2.1629e-04 - binary_accuracy: 1.0000 - val_loss: 1.5373 - val_binary_accuracy: 0.7748\n",
            "Epoch 87/100\n",
            "9/9 [==============================] - 3s 394ms/step - loss: 2.1024e-04 - binary_accuracy: 1.0000 - val_loss: 1.5412 - val_binary_accuracy: 0.7748\n",
            "Epoch 88/100\n",
            "9/9 [==============================] - 4s 458ms/step - loss: 2.0538e-04 - binary_accuracy: 1.0000 - val_loss: 1.5451 - val_binary_accuracy: 0.7748\n",
            "Epoch 89/100\n",
            "9/9 [==============================] - 4s 452ms/step - loss: 2.0000e-04 - binary_accuracy: 1.0000 - val_loss: 1.5506 - val_binary_accuracy: 0.7747\n",
            "Epoch 90/100\n",
            "9/9 [==============================] - 6s 774ms/step - loss: 1.9535e-04 - binary_accuracy: 1.0000 - val_loss: 1.5542 - val_binary_accuracy: 0.7746\n",
            "Epoch 91/100\n",
            "9/9 [==============================] - 4s 463ms/step - loss: 1.8952e-04 - binary_accuracy: 1.0000 - val_loss: 1.5572 - val_binary_accuracy: 0.7743\n",
            "Epoch 92/100\n",
            "9/9 [==============================] - 4s 456ms/step - loss: 1.8571e-04 - binary_accuracy: 1.0000 - val_loss: 1.5624 - val_binary_accuracy: 0.7745\n",
            "Epoch 93/100\n",
            "9/9 [==============================] - 6s 765ms/step - loss: 1.8110e-04 - binary_accuracy: 1.0000 - val_loss: 1.5667 - val_binary_accuracy: 0.7747\n",
            "Epoch 94/100\n",
            "9/9 [==============================] - 4s 474ms/step - loss: 1.7658e-04 - binary_accuracy: 1.0000 - val_loss: 1.5703 - val_binary_accuracy: 0.7744\n",
            "Epoch 95/100\n",
            "9/9 [==============================] - 6s 766ms/step - loss: 1.7260e-04 - binary_accuracy: 1.0000 - val_loss: 1.5748 - val_binary_accuracy: 0.7746\n",
            "Epoch 96/100\n",
            "9/9 [==============================] - 4s 462ms/step - loss: 1.6837e-04 - binary_accuracy: 1.0000 - val_loss: 1.5771 - val_binary_accuracy: 0.7745\n",
            "Epoch 97/100\n",
            "9/9 [==============================] - 4s 462ms/step - loss: 1.6481e-04 - binary_accuracy: 1.0000 - val_loss: 1.5821 - val_binary_accuracy: 0.7744\n",
            "Epoch 98/100\n",
            "9/9 [==============================] - 5s 602ms/step - loss: 1.6112e-04 - binary_accuracy: 1.0000 - val_loss: 1.5847 - val_binary_accuracy: 0.7743\n",
            "Epoch 99/100\n",
            "9/9 [==============================] - 4s 520ms/step - loss: 1.5703e-04 - binary_accuracy: 1.0000 - val_loss: 1.5879 - val_binary_accuracy: 0.7742\n",
            "Epoch 100/100\n",
            "9/9 [==============================] - 3s 422ms/step - loss: 1.5356e-04 - binary_accuracy: 1.0000 - val_loss: 1.5918 - val_binary_accuracy: 0.7742\n"
          ]
        }
      ]
    },
    {
      "cell_type": "code",
      "source": [
        "import matplotlib.pyplot as plt\n",
        "\n",
        "def plot_history(history):\n",
        "    acc = history.history['binary_accuracy']\n",
        "    val_acc = history.history['val_binary_accuracy']\n",
        "    loss = history.history['loss']\n",
        "    val_loss = history.history['val_loss']\n",
        "    x = range(1, len(acc) + 1)\n",
        "\n",
        "    plt.figure(figsize=(12, 5))\n",
        "    plt.subplot(1, 2, 1)\n",
        "    plt.plot(x, acc, 'b', label='Training acc')\n",
        "    plt.plot(x, val_acc, 'r', label='Validation acc')\n",
        "    plt.title('Training and validation accuracy')\n",
        "    plt.legend()\n",
        "    plt.subplot(1, 2, 2)\n",
        "    plt.plot(x, loss, 'b', label='Training loss')\n",
        "    plt.plot(x, val_loss, 'r', label='Validation loss')\n",
        "    plt.title('Training and validation loss')\n",
        "    plt.legend()\n",
        "\n",
        "plot_history(history)"
      ],
      "metadata": {
        "id": "mZKXZNxayPrS",
        "colab": {
          "base_uri": "https://localhost:8080/",
          "height": 336
        },
        "outputId": "f7cbdceb-292f-4ee5-bbde-b7c219c543c3"
      },
      "execution_count": null,
      "outputs": [
        {
          "output_type": "display_data",
          "data": {
            "image/png": "[encoded data removed]",
            "text/plain": [
              "<Figure size 864x360 with 2 Axes>"
            ]
          },
          "metadata": {
            "needs_background": "light"
          }
        }
      ]
    },
    {
      "cell_type": "code",
      "source": [
        "loss, accuracy = model.evaluate(X_train, Y_train, verbose=1)\n",
        "print(\"Training Accuracy: {:.4f}\".format(accuracy))\n",
        "loss, accuracy = model.evaluate(X_test, Y_test, verbose=1)\n",
        "print(\"Testing Accuracy:  {:.4f}\".format(accuracy))\n"
      ],
      "metadata": {
        "colab": {
          "base_uri": "https://localhost:8080/"
        },
        "id": "lSVcCYVXzOcy",
        "outputId": "f3d484b8-a280-4ff1-aea1-773aa2639b3b"
      },
      "execution_count": null,
      "outputs": [
        {
          "output_type": "stream",
          "name": "stdout",
          "text": [
            "88/88 [==============================] - 4s 40ms/step - loss: 1.4331 - binary_accuracy: 0.7967\n",
            "Training Accuracy: 0.7967\n",
            "11/11 [==============================] - 1s 39ms/step - loss: 1.7387 - binary_accuracy: 0.7710\n",
            "Testing Accuracy:  0.7710\n"
          ]
        }
      ]
    },
    {
      "cell_type": "code",
      "source": [
        "dev_sheet = pd.read_csv('/content/dev.csv', sep=',', usecols=range(22))\n",
        "df = dev_sheet == 0;\n",
        "binary_dev_sheet = dev_sheet[column_names_raw].where(df, 1);\n",
        "\n",
        "temp_dev_data = np.zeros((dev_sheet.values.shape[0], 0));\n",
        "\n",
        "for (c1, c2) in combinations: #for each combination we are calculating avg for them\n",
        "  temp_dev = binary_dev_sheet[[c1,c2]];\n",
        "  temp_dev_avg = np.round((temp_dev[c1] + temp_dev[c2])/2);\n",
        "  temp_dev_data = np.column_stack((temp_dev_data, temp_dev_avg));\n",
        "\n",
        "processed_dev_data = np.array(temp_dev_data);\n",
        "\n",
        "temp = vectorizer.transform(dev_sheet.values[:, 1])\n",
        "X_dev = np.array(temp.toarray());\n",
        "Y_dev = np.array(processed_dev_data);\n",
        "\n",
        "loss, accuracy = model.evaluate(X_dev, Y_dev, verbose=1)\n",
        "print(\"Testing Accuracy:  {:.4f}\".format(accuracy))\n",
        "\n",
        "pred = model.predict(X_dev)\n",
        "\n",
        "def show_example(idx):\n",
        "    N_true = int(np.sum(Y_dev[idx]))\n",
        "    print(dev_sheet['text'][idx])\n",
        "    print(\"Prediction: {}\".format(\"|\".join([\"{} ({:.3})\".format(emotion_names[s], pred[idx][s])\n",
        "                                            for s in pred[idx].argsort()[-N_true:][::-1]])))\n",
        "    \n",
        "show_example(215)"
      ],
      "metadata": {
        "colab": {
          "base_uri": "https://localhost:8080/"
        },
        "id": "sDM7hEQdw7Z2",
        "outputId": "de96ec17-f91b-4943-d4b1-620df5b98de2"
      },
      "execution_count": null,
      "outputs": [
        {
          "output_type": "stream",
          "name": "stdout",
          "text": [
            "11/11 [==============================] - 1s 65ms/step - loss: 1.4702 - binary_accuracy: 0.7845\n",
            "Testing Accuracy:  0.7845\n",
            "Definitely the worst four-star hotel she's ever been in. The room and bathroom look like they were decorated 30 years ago. The carpet in the room is worn, the bed linen is stained (fortunately the pillowcases are clean and the bed is comfortable), the joints in the bathroom are dirty with old age, demanding renovation. There was no phone and a floor lamp in the room. The receptionist during the check-in did not honor us even with a shadow of a smile and all the time she was sipping candy (seriously . . . ) . Against the backdrop of all this, the gentleman who took care of the pool and the sauna, smiling and helpful, was a wonderful person.\n",
            "Prediction: anger (0.982)|disgust (0.0162)|joy (0.000173)|anticipation (3.6e-05)|trust (3.4e-07)|sadness (1.77e-08)|fear (2.87e-09)|surprise (1.88e-09)\n"
          ]
        }
      ]
    }
  ]
}